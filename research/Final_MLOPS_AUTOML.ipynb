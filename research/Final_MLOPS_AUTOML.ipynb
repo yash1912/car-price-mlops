{
  "cells": [
    {
      "cell_type": "code",
      "execution_count": 1,
      "metadata": {
        "colab": {
          "base_uri": "https://localhost:8080/"
        },
        "id": "e-2HpNhhZt1H",
        "outputId": "e767596a-ab4c-427d-ef47-56d6f6373ffb"
      },
      "outputs": [
        {
          "name": "stdout",
          "output_type": "stream",
          "text": [
            "openjdk 11.0.25 2024-10-15\n",
            "OpenJDK Runtime Environment (build 11.0.25+9-post-Ubuntu-1ubuntu122.04)\n",
            "OpenJDK 64-Bit Server VM (build 11.0.25+9-post-Ubuntu-1ubuntu122.04, mixed mode, sharing)\n"
          ]
        }
      ],
      "source": [
        "%%bash\n",
        "java --version"
      ]
    },
    {
      "cell_type": "code",
      "execution_count": 3,
      "metadata": {
        "colab": {
          "base_uri": "https://localhost:8080/"
        },
        "id": "GdXm4g_PaH2g",
        "outputId": "f57b4c57-3a03-4dd4-c25c-3987cedf756b"
      },
      "outputs": [
        {
          "name": "stdout",
          "output_type": "stream",
          "text": [
            "Collecting h2o\n",
            "  Downloading h2o-3.46.0.6.tar.gz (265.8 MB)\n",
            "     ━━━━━━━━━━━━━━━━━━━━━━━━━━━━━━━━━━━━━━━━ 265.8/265.8 MB 5.2 MB/s eta 0:00:00\n",
            "  Preparing metadata (setup.py): started\n",
            "  Preparing metadata (setup.py): finished with status 'done'\n",
            "Requirement already satisfied: requests in /usr/local/lib/python3.10/dist-packages (from h2o) (2.32.3)\n",
            "Requirement already satisfied: tabulate in /usr/local/lib/python3.10/dist-packages (from h2o) (0.9.0)\n",
            "Requirement already satisfied: charset-normalizer<4,>=2 in /usr/local/lib/python3.10/dist-packages (from requests->h2o) (3.4.0)\n",
            "Requirement already satisfied: idna<4,>=2.5 in /usr/local/lib/python3.10/dist-packages (from requests->h2o) (3.10)\n",
            "Requirement already satisfied: urllib3<3,>=1.21.1 in /usr/local/lib/python3.10/dist-packages (from requests->h2o) (2.2.3)\n",
            "Requirement already satisfied: certifi>=2017.4.17 in /usr/local/lib/python3.10/dist-packages (from requests->h2o) (2024.8.30)\n",
            "Building wheels for collected packages: h2o\n",
            "  Building wheel for h2o (setup.py): started\n",
            "  Building wheel for h2o (setup.py): finished with status 'done'\n",
            "  Created wheel for h2o: filename=h2o-3.46.0.6-py2.py3-none-any.whl size=265859786 sha256=fcbc19b91f12bd5134a74201fa913129e36c695072cf59cd7d63492e7a29ca88\n",
            "  Stored in directory: /root/.cache/pip/wheels/0c/95/eb/b449c73f478dbc4557b80170cf7f2aa6db15862877e9a63536\n",
            "Successfully built h2o\n",
            "Installing collected packages: h2o\n",
            "Successfully installed h2o-3.46.0.6\n"
          ]
        }
      ],
      "source": [
        "%%bash\n",
        "pip install h2o"
      ]
    },
    {
      "cell_type": "code",
      "execution_count": 4,
      "metadata": {
        "id": "IiHiBYxAZn_q"
      },
      "outputs": [],
      "source": [
        "import h2o\n",
        "import pandas as pd\n",
        "from h2o.automl import H2OAutoML\n",
        "from sklearn.metrics import r2_score\n",
        "import numpy as np\n",
        "\n",
        "import warnings\n",
        "\n",
        "warnings.filterwarnings(\"ignore\")"
      ]
    },
    {
      "cell_type": "code",
      "execution_count": 5,
      "metadata": {
        "colab": {
          "base_uri": "https://localhost:8080/",
          "height": 537
        },
        "id": "3uQFQFjFaa8U",
        "outputId": "457234fe-028e-499e-c151-65c7804dd215"
      },
      "outputs": [
        {
          "name": "stdout",
          "output_type": "stream",
          "text": [
            "Checking whether there is an H2O instance running at http://localhost:54321..... not found.\n",
            "Attempting to start a local H2O server...\n",
            "  Java Version: openjdk version \"11.0.25\" 2024-10-15; OpenJDK Runtime Environment (build 11.0.25+9-post-Ubuntu-1ubuntu122.04); OpenJDK 64-Bit Server VM (build 11.0.25+9-post-Ubuntu-1ubuntu122.04, mixed mode, sharing)\n",
            "  Starting server from /usr/local/lib/python3.10/dist-packages/h2o/backend/bin/h2o.jar\n",
            "  Ice root: /tmp/tmp2tvr6hhx\n",
            "  JVM stdout: /tmp/tmp2tvr6hhx/h2o_unknownUser_started_from_python.out\n",
            "  JVM stderr: /tmp/tmp2tvr6hhx/h2o_unknownUser_started_from_python.err\n",
            "  Server is running at http://127.0.0.1:54321\n",
            "Connecting to H2O server at http://127.0.0.1:54321 ... successful.\n"
          ]
        },
        {
          "data": {
            "text/html": [
              "\n",
              "<style>\n",
              "\n",
              "#h2o-table-1.h2o-container {\n",
              "  overflow-x: auto;\n",
              "}\n",
              "#h2o-table-1 .h2o-table {\n",
              "  /* width: 100%; */\n",
              "  margin-top: 1em;\n",
              "  margin-bottom: 1em;\n",
              "}\n",
              "#h2o-table-1 .h2o-table caption {\n",
              "  white-space: nowrap;\n",
              "  caption-side: top;\n",
              "  text-align: left;\n",
              "  /* margin-left: 1em; */\n",
              "  margin: 0;\n",
              "  font-size: larger;\n",
              "}\n",
              "#h2o-table-1 .h2o-table thead {\n",
              "  white-space: nowrap; \n",
              "  position: sticky;\n",
              "  top: 0;\n",
              "  box-shadow: 0 -1px inset;\n",
              "}\n",
              "#h2o-table-1 .h2o-table tbody {\n",
              "  overflow: auto;\n",
              "}\n",
              "#h2o-table-1 .h2o-table th,\n",
              "#h2o-table-1 .h2o-table td {\n",
              "  text-align: right;\n",
              "  /* border: 1px solid; */\n",
              "}\n",
              "#h2o-table-1 .h2o-table tr:nth-child(even) {\n",
              "  /* background: #F5F5F5 */\n",
              "}\n",
              "\n",
              "</style>      \n",
              "<div id=\"h2o-table-1\" class=\"h2o-container\">\n",
              "  <table class=\"h2o-table\">\n",
              "    <caption></caption>\n",
              "    <thead></thead>\n",
              "    <tbody><tr><td>H2O_cluster_uptime:</td>\n",
              "<td>06 secs</td></tr>\n",
              "<tr><td>H2O_cluster_timezone:</td>\n",
              "<td>Etc/UTC</td></tr>\n",
              "<tr><td>H2O_data_parsing_timezone:</td>\n",
              "<td>UTC</td></tr>\n",
              "<tr><td>H2O_cluster_version:</td>\n",
              "<td>3.46.0.6</td></tr>\n",
              "<tr><td>H2O_cluster_version_age:</td>\n",
              "<td>1 month and 10 days</td></tr>\n",
              "<tr><td>H2O_cluster_name:</td>\n",
              "<td>H2O_from_python_unknownUser_8z4jgx</td></tr>\n",
              "<tr><td>H2O_cluster_total_nodes:</td>\n",
              "<td>1</td></tr>\n",
              "<tr><td>H2O_cluster_free_memory:</td>\n",
              "<td>3.170 Gb</td></tr>\n",
              "<tr><td>H2O_cluster_total_cores:</td>\n",
              "<td>2</td></tr>\n",
              "<tr><td>H2O_cluster_allowed_cores:</td>\n",
              "<td>2</td></tr>\n",
              "<tr><td>H2O_cluster_status:</td>\n",
              "<td>locked, healthy</td></tr>\n",
              "<tr><td>H2O_connection_url:</td>\n",
              "<td>http://127.0.0.1:54321</td></tr>\n",
              "<tr><td>H2O_connection_proxy:</td>\n",
              "<td>{\"http\": null, \"https\": null, \"colab_language_server\": \"/usr/colab/bin/language_service\"}</td></tr>\n",
              "<tr><td>H2O_internal_security:</td>\n",
              "<td>False</td></tr>\n",
              "<tr><td>Python_version:</td>\n",
              "<td>3.10.12 final</td></tr></tbody>\n",
              "  </table>\n",
              "</div>\n"
            ],
            "text/plain": [
              "--------------------------  -----------------------------------------------------------------------------------------\n",
              "H2O_cluster_uptime:         06 secs\n",
              "H2O_cluster_timezone:       Etc/UTC\n",
              "H2O_data_parsing_timezone:  UTC\n",
              "H2O_cluster_version:        3.46.0.6\n",
              "H2O_cluster_version_age:    1 month and 10 days\n",
              "H2O_cluster_name:           H2O_from_python_unknownUser_8z4jgx\n",
              "H2O_cluster_total_nodes:    1\n",
              "H2O_cluster_free_memory:    3.170 Gb\n",
              "H2O_cluster_total_cores:    2\n",
              "H2O_cluster_allowed_cores:  2\n",
              "H2O_cluster_status:         locked, healthy\n",
              "H2O_connection_url:         http://127.0.0.1:54321\n",
              "H2O_connection_proxy:       {\"http\": null, \"https\": null, \"colab_language_server\": \"/usr/colab/bin/language_service\"}\n",
              "H2O_internal_security:      False\n",
              "Python_version:             3.10.12 final\n",
              "--------------------------  -----------------------------------------------------------------------------------------"
            ]
          },
          "metadata": {},
          "output_type": "display_data"
        }
      ],
      "source": [
        "h2o.init()"
      ]
    },
    {
      "cell_type": "code",
      "execution_count": 6,
      "metadata": {
        "colab": {
          "base_uri": "https://localhost:8080/"
        },
        "id": "z1HUKsKeallp",
        "outputId": "e76f783f-0549-4a5b-fa6c-79418282f02e"
      },
      "outputs": [
        {
          "name": "stdout",
          "output_type": "stream",
          "text": [
            "Parse progress: |████████████████████████████████████████████████████████████████| (done) 100%\n"
          ]
        }
      ],
      "source": [
        "df = h2o.import_file(\"car data.csv\")"
      ]
    },
    {
      "cell_type": "code",
      "execution_count": 7,
      "metadata": {
        "id": "eAsJlQYHvBO1"
      },
      "outputs": [],
      "source": [
        "df = df.drop(\"Car_Name\", axis = 1)"
      ]
    },
    {
      "cell_type": "code",
      "execution_count": 8,
      "metadata": {
        "id": "yYK9CGrXvLfT"
      },
      "outputs": [],
      "source": [
        "df['number_of_years'] = 2020 - df['Year']\n",
        "df = df.drop(\"Year\", axis = 1)"
      ]
    },
    {
      "cell_type": "code",
      "execution_count": null,
      "metadata": {
        "colab": {
          "base_uri": "https://localhost:8080/",
          "height": 1000
        },
        "id": "aMViS4a4axQq",
        "outputId": "26313256-b360-4227-e221-2da36da1bcec"
      },
      "outputs": [],
      "source": [
        "train, test = df.split_frame(ratios=[0.8], seed=42)\n",
        "\n",
        "target = \"Selling_Price\"\n",
        "features = df.columns.remove(target)\n",
        "\n",
        "automl = H2OAutoML(max_runtime_secs = 1800,\n",
        "                include_algos = [\"GLM\", \"DRF\", \"XGBoost\"], sort_metric = \"RMSE\", seed = 42)\n",
        "\n",
        "automl.train(features, target, train)"
      ]
    },
    {
      "cell_type": "markdown",
      "metadata": {},
      "source": [
        "AutoML progress: |███████████████████████████████████████████████████████████████| (done) 100%"
      ]
    },
    {
      "cell_type": "code",
      "execution_count": null,
      "metadata": {
        "colab": {
          "base_uri": "https://localhost:8080/"
        },
        "id": "U_mMoX8xwFs0",
        "outputId": "964641df-2c5d-4a09-9211-21bb7508d819"
      },
      "outputs": [],
      "source": [
        "leaderboard = h2o.automl.get_leaderboard(automl, extra_columns = \"ALL\")\n",
        "print(leaderboard)"
      ]
    },
    {
      "cell_type": "markdown",
      "metadata": {},
      "source": [
        "<table>\n",
        "<thead>\n",
        "<tr>\n",
        "    <th>Model ID</th>\n",
        "    <th>RMSE</th>\n",
        "    <th>MSE</th>\n",
        "    <th>MAE</th>\n",
        "    <th>RMSLE</th>\n",
        "    <th>Mean Residual Deviance</th>\n",
        "    <th>Training Time (ms)</th>\n",
        "    <th>Predict Time per Row (ms)</th>\n",
        "    <th>Algorithm</th>\n",
        "</tr>\n",
        "</thead>\n",
        "<tbody>\n",
        "<tr>\n",
        "    <td>DRF_grid_1_AutoML_1_20241212_54440_model_215</td>\n",
        "    <td>1.28412</td>\n",
        "    <td>1.64897</td>\n",
        "    <td>0.662443</td>\n",
        "    <td>0.142381</td>\n",
        "    <td>1.64897</td>\n",
        "    <td>251</td>\n",
        "    <td>0.032193</td>\n",
        "    <td>DRF</td>\n",
        "</tr>\n",
        "<tr>\n",
        "    <td>DRF_grid_1_AutoML_1_20241212_54440_model_590</td>\n",
        "    <td>1.34072</td>\n",
        "    <td>1.79753</td>\n",
        "    <td>0.708374</td>\n",
        "    <td>0.148138</td>\n",
        "    <td>1.79753</td>\n",
        "    <td>271</td>\n",
        "    <td>0.025151</td>\n",
        "    <td>DRF</td>\n",
        "</tr>\n",
        "<tr>\n",
        "    <td>XGBoost_grid_1_AutoML_1_20241212_54440_model_484</td>\n",
        "    <td>1.37046</td>\n",
        "    <td>1.87816</td>\n",
        "    <td>0.685618</td>\n",
        "    <td>0.154746</td>\n",
        "    <td>1.87816</td>\n",
        "    <td>244</td>\n",
        "    <td>0.013404</td>\n",
        "    <td>XGBoost</td>\n",
        "</tr>\n",
        "<tr>\n",
        "    <td>XGBoost_grid_1_AutoML_1_20241212_54440_model_266</td>\n",
        "    <td>1.41737</td>\n",
        "    <td>2.00895</td>\n",
        "    <td>0.715006</td>\n",
        "    <td>0.153616</td>\n",
        "    <td>2.00895</td>\n",
        "    <td>302</td>\n",
        "    <td>0.01228</td>\n",
        "    <td>XGBoost</td>\n",
        "</tr>\n",
        "<tr>\n",
        "    <td>DRF_grid_1_AutoML_1_20241212_54440_model_596</td>\n",
        "    <td>1.41977</td>\n",
        "    <td>2.01575</td>\n",
        "    <td>0.714688</td>\n",
        "    <td>0.149661</td>\n",
        "    <td>2.01575</td>\n",
        "    <td>285</td>\n",
        "    <td>0.010096</td>\n",
        "    <td>DRF</td>\n",
        "</tr>\n",
        "<tr>\n",
        "    <td>DRF_grid_1_AutoML_1_20241212_54440_model_467</td>\n",
        "    <td>1.44677</td>\n",
        "    <td>2.09315</td>\n",
        "    <td>0.690772</td>\n",
        "    <td>0.149236</td>\n",
        "    <td>2.09315</td>\n",
        "    <td>496</td>\n",
        "    <td>0.009819</td>\n",
        "    <td>DRF</td>\n",
        "</tr>\n",
        "<tr>\n",
        "    <td>DRF_grid_1_AutoML_1_20241212_54440_model_297</td>\n",
        "    <td>1.4898</td>\n",
        "    <td>2.21951</td>\n",
        "    <td>0.784992</td>\n",
        "    <td>nan</td>\n",
        "    <td>2.21951</td>\n",
        "    <td>286</td>\n",
        "    <td>0.010156</td>\n",
        "    <td>DRF</td>\n",
        "</tr>\n",
        "<tr>\n",
        "    <td>DRF_grid_1_AutoML_1_20241212_54440_model_454</td>\n",
        "    <td>1.49179</td>\n",
        "    <td>2.22544</td>\n",
        "    <td>0.715708</td>\n",
        "    <td>0.180872</td>\n",
        "    <td>2.22544</td>\n",
        "    <td>227</td>\n",
        "    <td>0.009188</td>\n",
        "    <td>DRF</td>\n",
        "</tr>\n",
        "<tr>\n",
        "    <td>XGBoost_grid_1_AutoML_1_20241212_54440_model_148</td>\n",
        "    <td>1.50352</td>\n",
        "    <td>2.26056</td>\n",
        "    <td>0.662147</td>\n",
        "    <td>nan</td>\n",
        "    <td>2.26056</td>\n",
        "    <td>237</td>\n",
        "    <td>0.01005</td>\n",
        "    <td>XGboost</td>\n",
        "</tr>\n",
        "<tr>\n",
        "    <td>DRF_grid_1_AutoML_1_20241212_54440_model_418</td>\n",
        "    <td>1.53849</td>\n",
        "    <td>2.36695</td>\n",
        "    <td>0.732047</td>\n",
        "    <td>0.154009</td>\n",
        "    <td>2.36695</td>\n",
        "    <td>295</td>\n",
        "    <td>0.01432</td>\n",
        "    <td>DRF</td>\n",
        "</tr>\n",
        "</tbody>\n",
        "</table>\n"
      ]
    },
    {
      "cell_type": "markdown",
      "metadata": {},
      "source": []
    }
  ],
  "metadata": {
    "colab": {
      "provenance": []
    },
    "kernelspec": {
      "display_name": "Python 3",
      "name": "python3"
    },
    "language_info": {
      "name": "python"
    }
  },
  "nbformat": 4,
  "nbformat_minor": 0
}
