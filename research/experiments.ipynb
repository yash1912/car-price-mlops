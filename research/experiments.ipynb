{
 "cells": [
  {
   "cell_type": "code",
   "execution_count": 7,
   "metadata": {},
   "outputs": [],
   "source": [
    "import pandas as pd\n",
    "import sys\n",
    "\n",
    "sys.path.insert(0, \"/home/yash/mlops/final\")\n",
    "import config, utils\n",
    "df = pd.read_csv(\"../\" + config.DATASET_PATH)\n",
    "\n",
    "# Set MLflow experiment\n",
    "# mlflow.set_experiment(config.MLFLOW_EXPERIMENT_NAME)\n",
    "\n",
    "# Preprocess data\n",
    "df = utils.preprocess_data(df)\n",
    "\n",
    "# Push data to lakeFS\n",
    "# utils.push_data_to_lakefs(df=df, data_name=\"cars_data\", repo_name=config.LAKEFS_REPO_NAME, version=\"v1\")\n",
    "\n",
    "# Split data into features and target\n",
    "X = df.drop(\"Selling_Price\", axis=1)\n",
    "y = df[\"Selling_Price\"]\n",
    "X_train, X_test, y_train, y_test = utils.get_data_splits(X, y)"
   ]
  },
  {
   "cell_type": "code",
   "execution_count": null,
   "metadata": {},
   "outputs": [],
   "source": [
    "X_test"
   ]
  }
 ],
 "metadata": {
  "kernelspec": {
   "display_name": "mlops",
   "language": "python",
   "name": "python3"
  },
  "language_info": {
   "codemirror_mode": {
    "name": "ipython",
    "version": 3
   },
   "file_extension": ".py",
   "mimetype": "text/x-python",
   "name": "python",
   "nbconvert_exporter": "python",
   "pygments_lexer": "ipython3",
   "version": "3.10.14"
  }
 },
 "nbformat": 4,
 "nbformat_minor": 2
}
